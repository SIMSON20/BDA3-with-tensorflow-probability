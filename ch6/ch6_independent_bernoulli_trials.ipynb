{
 "cells": [
  {
   "cell_type": "markdown",
   "metadata": {},
   "source": [
    "# **Independence of binomials trials**"
   ]
  },
  {
   "cell_type": "code",
   "execution_count": 1,
   "metadata": {
    "ExecuteTime": {
     "end_time": "2018-09-04T18:30:26.605036Z",
     "start_time": "2018-09-04T18:30:19.152568Z"
    },
    "collapsed": true
   },
   "outputs": [],
   "source": [
    "%matplotlib inline\n",
    "import warnings\n",
    "warnings.filterwarnings('ignore')\n",
    "\n",
    "import numpy as np\n",
    "import tensorflow as tf\n",
    "import tensorflow_probability as tfp\n",
    "from tensorflow_probability import edward2 as ed\n",
    "from tqdm import tqdm_notebook\n",
    "\n",
    "import matplotlib.pyplot as plt\n",
    "\n",
    "plt.style.use('fivethirtyeight')\n",
    "\n",
    "tfd = tfp.distributions"
   ]
  },
  {
   "cell_type": "markdown",
   "metadata": {},
   "source": [
    "---\n",
    "*Taken from BDA3, Chapter 6, p. 147*\n",
    "\n",
    "> Consider a sequence of binary outcomes, $y_1, \\ldots , y_n$, modeled as a specified number of independent trials with a common probability of success, $\\theta$, that is given a uniform prior distribution. The posterior density under the model is $p(\\theta|y) \\propto \\theta^{\\sum_{i}y}(1-\\theta)^{n-\\sum_{i}y}$, which depends on the data only through the sufficient statistic, $\\sum_{i=1}^{n}y_i$. Now suppose the observed data are, in order, 1, 1, 0, 0, 0, 0, 0, 1, 1, 1, 1, 1, 0, 0, 0, 0, 0, 0, 0, 0. The observed autocorrelation is evidence that the model is flawed. To quantify the evidence, we can perform a posterior predictive test using the test quantity $T$ = number of switches between 0 and 1 in the sequence. The observed value is $T(y) = 3$, and we can determine the posterior predictive distribution of $T(y^ {rep})$ by simulation. To simulate $y^{rep}$ under the model, we first draw $\\theta$ from its $\\mathcal{B}eta(8, 14)$ posterior distribution, then draw $y^{rep} = (y^{rep}_1 , \\ldots , y^{rep}_{20})$ as independent Bernoulli variables with probability $\\theta$. Figure 6.5 displays a histogram of the values of $T(y^{rep}_s)$ for simulation draws $s = 1, \\ldots , 10,000$, with the observed value, $T(y) = 3$.\n",
    "\n",
    "---"
   ]
  },
  {
   "cell_type": "code",
   "execution_count": 2,
   "metadata": {
    "ExecuteTime": {
     "end_time": "2018-09-04T18:30:26.614010Z",
     "start_time": "2018-09-04T18:30:26.606963Z"
    },
    "collapsed": true
   },
   "outputs": [],
   "source": [
    "y = np.array(\n",
    "    [1, 1, 0, 0, 0, 0, 0, 1, 1, 1, 1, 1, 0, 0, 0, 0, 0, 0, 0, 0], dtype=np.float32\n",
    ")\n",
    "\n",
    "n = len(y)\n",
    "s = np.sum(y)\n",
    "Ty = np.sum(np.diff(y) != 0)\n",
    "\n",
    "a = s + 1\n",
    "b = n - s + 1\n",
    "\n",
    "draws = 10000"
   ]
  },
  {
   "cell_type": "code",
   "execution_count": 3,
   "metadata": {
    "ExecuteTime": {
     "end_time": "2018-09-04T18:31:44.858758Z",
     "start_time": "2018-09-04T18:31:44.853744Z"
    }
   },
   "outputs": [],
   "source": [
    "p = tfd.Beta(concentration1=a, concentration0=b, name='p').sample(draws, seed=0)\n",
    "yrep = tfd.Bernoulli(probs=p, name='yrep').sample(n, seed=0)"
   ]
  },
  {
   "cell_type": "code",
   "execution_count": 4,
   "metadata": {},
   "outputs": [],
   "source": [
    "with tf.Session() as sess:\n",
    "    yrep_ = sess.run(yrep) # ~0.03 s"
   ]
  },
  {
   "cell_type": "code",
   "execution_count": 5,
   "metadata": {
    "ExecuteTime": {
     "end_time": "2018-09-04T18:32:00.504595Z",
     "start_time": "2018-09-04T18:31:46.164963Z"
    }
   },
   "outputs": [
    {
     "name": "stdout",
     "output_type": "stream",
     "text": [
      "Pr(T(yrep, theta) <= T(y, theta) | y) = 0.04\n"
     ]
    }
   ],
   "source": [
    "Tyrep = yrep_.sum(axis=0)  \n",
    "print('Pr(T(yrep, theta) <= T(y, theta) | y) = {:.2f}'.format(np.mean(Tyrep < Ty)))"
   ]
  },
  {
   "cell_type": "code",
   "execution_count": 6,
   "metadata": {
    "ExecuteTime": {
     "end_time": "2018-09-04T18:43:17.233442Z",
     "start_time": "2018-09-04T18:43:16.996637Z"
    }
   },
   "outputs": [
    {
     "data": {
      "image/png": "[encoded data removed]",
      "text/plain": [
       "<matplotlib.figure.Figure at 0x16a69716d30>"
      ]
     },
     "metadata": {},
     "output_type": "display_data"
    }
   ],
   "source": [
    "fig, ax = plt.subplots()\n",
    "\n",
    "ax.hist(Tyrep, np.arange(19), label=r'$T(y_\\mathrm{rep})$',)\n",
    "ax.axvline(Ty, color='red', label='$T(y)$')\n",
    "ax.set_xlim((-0.5, 17.5))\n",
    "ax.set_title(\n",
    "    'Binomial example - number of changes? \\n'\n",
    "    'Pr(T(yrep, theta) <= T(y, theta) | y) = {:.2f}'.format(np.mean(Tyrep < Ty)),\n",
    "    fontsize=16\n",
    ")\n",
    "ax.axes.get_yaxis().set_visible(False)\n",
    "ax.legend()\n",
    "fig.tight_layout()"
   ]
  },
  {
   "cell_type": "code",
   "execution_count": null,
   "metadata": {
    "collapsed": true
   },
   "outputs": [],
   "source": []
  }
 ],
 "metadata": {
  "hide_input": false,
  "kernelspec": {
   "display_name": "Python 3",
   "language": "python",
   "name": "python3"
  },
  "language_info": {
   "codemirror_mode": {
    "name": "ipython",
    "version": 3
   },
   "file_extension": ".py",
   "mimetype": "text/x-python",
   "name": "python",
   "nbconvert_exporter": "python",
   "pygments_lexer": "ipython3",
   "version": "3.6.1"
  },
  "toc": {
   "base_numbering": 1,
   "nav_menu": {},
   "number_sections": true,
   "sideBar": true,
   "skip_h1_title": true,
   "title_cell": "Table of Contents",
   "title_sidebar": "Contents",
   "toc_cell": false,
   "toc_position": {},
   "toc_section_display": true,
   "toc_window_display": true
  }
 },
 "nbformat": 4,
 "nbformat_minor": 2
}
