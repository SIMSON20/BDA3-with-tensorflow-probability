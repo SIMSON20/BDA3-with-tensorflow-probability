{
 "cells": [
  {
   "cell_type": "markdown",
   "metadata": {},
   "source": [
    "# **Independence of binomials trials**"
   ]
  },
  {
   "cell_type": "code",
   "execution_count": 3,
   "metadata": {},
   "outputs": [],
   "source": [
    "import numpy as np\n",
    "import tensorflow as tf\n",
    "import tensorflow_probability as tfp\n",
    "from tensorflow_probability import edward2 as ed\n",
    "\n",
    "%matplotlib inline\n",
    "import matplotlib.pyplot as plt\n",
    "import seaborn as sns\n",
    "import warnings\n",
    "\n",
    "plt.style.use('seaborn-paper')\n",
    "warnings.filterwarnings('ignore')"
   ]
  },
  {
   "cell_type": "markdown",
   "metadata": {},
   "source": [
    "Consider a sequence of binary outcomes, $y_1, \\ldots , y_n$, modeled as a specified number of independent trials with a common probability of success, $\\theta$, that is given a uniform prior distribution. The posterior density under the model is $p(\\theta|y) \\propto \\theta^{\\sum_{i}y}(1-\\theta)^{n-\\sum_{i}y}$, which depends on the data only through the sufficient statistic, $\\sum_{i=1}^{n}y_i$. Now suppose the observed data are, in order, 1, 1, 0, 0, 0, 0, 0, 1, 1, 1, 1, 1, 0, 0, 0, 0, 0, 0, 0, 0. The observed autocorrelation is evidence that the model is flawed. To quantify the evidence, we can perform a posterior predictive test using the test quantity $T$ = number of switches between 0 and 1 in the sequence. The observed value is $T(y) = 3$, and we can determine the posterior predictive distribution of $T(y^ {rep})$ by simulation. To simulate $y^{rep}$ under the model, we first draw $\\theta$ from its $\\mathcal{B}eta(8, 14)$ posterior distribution, then draw $y^{rep} = (y^{rep}_1 , \\ldots , y^{rep}_{20})$ as independent Bernoulli variables with probability $\\theta$. Figure 6.5 displays a histogram of the values of $T(y^{rep}_s)$ for simulation draws $s = 1, \\ldots , 10000$, with the observed value, $T(y) = 3$."
   ]
  },
  {
   "cell_type": "code",
   "execution_count": 4,
   "metadata": {
    "collapsed": true
   },
   "outputs": [],
   "source": [
    "data = np.array(\n",
    "    [1, 1, 0, 0, 0, 0, 0, 1, 1, 1, 1, 1, 0, 0, 0, 0, 0, 0, 0, 0], dtype=np.float32\n",
    ")"
   ]
  },
  {
   "cell_type": "code",
   "execution_count": null,
   "metadata": {
    "collapsed": true
   },
   "outputs": [],
   "source": []
  }
 ],
 "metadata": {
  "kernelspec": {
   "display_name": "Python 3",
   "language": "python",
   "name": "python3"
  },
  "language_info": {
   "codemirror_mode": {
    "name": "ipython",
    "version": 3
   },
   "file_extension": ".py",
   "mimetype": "text/x-python",
   "name": "python",
   "nbconvert_exporter": "python",
   "pygments_lexer": "ipython3",
   "version": "3.6.1"
  }
 },
 "nbformat": 4,
 "nbformat_minor": 2
}
